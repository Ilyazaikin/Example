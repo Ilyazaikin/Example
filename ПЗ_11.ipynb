{
  "nbformat": 4,
  "nbformat_minor": 0,
  "metadata": {
    "colab": {
      "name": "ПЗ 11",
      "provenance": [],
      "authorship_tag": "ABX9TyMiHMPHBum5QFL812DZiHky",
      "include_colab_link": true
    },
    "kernelspec": {
      "name": "python3",
      "display_name": "Python 3"
    },
    "language_info": {
      "name": "python"
    }
  },
  "cells": [
    {
      "cell_type": "markdown",
      "metadata": {
        "id": "view-in-github",
        "colab_type": "text"
      },
      "source": [
        "<a href=\"https://colab.research.google.com/github/galamyan01/Example/blob/master/%D0%9F%D0%97_11.ipynb\" target=\"_parent\"><img src=\"https://colab.research.google.com/assets/colab-badge.svg\" alt=\"Open In Colab\"/></a>"
      ]
    },
    {
      "cell_type": "markdown",
      "source": [
        "ПЗ 3 Задача 1"
      ],
      "metadata": {
        "id": "ltSUJqsc5mRu"
      }
    },
    {
      "cell_type": "code",
      "source": [
        "# Даны целые числа a, b, c, являющиеся сторонами некоторого треугольника.\n",
        "# Проверить истинность высказывания: «Треугольник со сторонами a, b, c является равносторонним»\n",
        "\n",
        "while True:\n",
        "    try:                                                # обработка исключений\n",
        "        a = int(input(\"Введите значение первой стороны треугольника:\"))\n",
        "        b = int(input(\"Введите значение второй стороны треугольника:\"))\n",
        "        c = int(input(\"Введите значение третьей стороны треугольника\"))\n",
        "        if a < 0 or b < 0 or c < 0:\n",
        "            print(\"Стороны треугольника не могут принимать отрицательные значения\")\n",
        "        else:\n",
        "            break\n",
        "    except ValueError:\n",
        "        print(\"Введите корректные значения!\")\n",
        "\n",
        "print(\"Треугольник является равносторонним\",(a == b) and (b == c))\n"
      ],
      "metadata": {
        "colab": {
          "base_uri": "https://localhost:8080/"
        },
        "id": "rBVWcRvQ5rds",
        "outputId": "becd108a-c160-4965-9992-bb8a0814f4c3"
      },
      "execution_count": 2,
      "outputs": [
        {
          "output_type": "stream",
          "name": "stdout",
          "text": [
            "Введите значение первой стороны треугольника:2\n",
            "Введите значение второй стороны треугольника:4\n",
            "Введите значение третьей стороны треугольника3\n",
            "Треугольник является равносторонним False\n"
          ]
        }
      ]
    },
    {
      "cell_type": "markdown",
      "source": [
        "ПЗ 4 Задача 1"
      ],
      "metadata": {
        "id": "oyBUkVol6CGi"
      }
    },
    {
      "cell_type": "code",
      "source": [
        "# Дано целое число N (>0). Найти значение выражения 1.1 - 1.2 + 1.3 - ...\n",
        "# (N слагаемых, знаки чередуются). Условный оператор не использовать.\n",
        "\n",
        "try:                                                 # обработка исключений\n",
        "    N = int(input(\"Введите целое число:\"))\n",
        "    print(\"Успешно\")\n",
        "except ValueError:\n",
        "    print(\"Ошибка\")\n",
        "print(\"N = \", N)\n",
        "S = 0.0\n",
        "i = 1\n",
        "while N >= 1:\n",
        "    x = (1 + i * 0.1) * (-1) ** (i + 1)\n",
        "    S += x\n",
        "    i += 1\n",
        "    N -= 1\n",
        "print(\"Сумма = \", S)"
      ],
      "metadata": {
        "colab": {
          "base_uri": "https://localhost:8080/"
        },
        "id": "fMcJtC156JGi",
        "outputId": "89c32101-d0e1-4be6-f6ba-f09f39358cfa"
      },
      "execution_count": 3,
      "outputs": [
        {
          "output_type": "stream",
          "name": "stdout",
          "text": [
            "Введите целое число:3\n",
            "Успешно\n",
            "N =  3\n",
            "Сумма =  1.2000000000000002\n"
          ]
        }
      ]
    },
    {
      "cell_type": "markdown",
      "source": [
        "ПЗ 5 Задача 1"
      ],
      "metadata": {
        "id": "XM4qlXdv6QgT"
      }
    },
    {
      "cell_type": "code",
      "source": [
        "# Составить функцию, которая выполняет суммирование  числового ряда.\n",
        "nums = []\n",
        "i = 0\n",
        "n = int(input(\"Введите количество суммируемых элементов:\"))\n",
        "while i < n:\n",
        "    x = int(input(\"Введите число:\"))\n",
        "    nums.append(x)                  # объединение\n",
        "    i += 1\n",
        "\n",
        "\n",
        "def sum_nums(list):               #\n",
        "    if len(list) == 0:\n",
        "        return 0\n",
        "    i = 0\n",
        "    s = 0\n",
        "    while i < len(list):\n",
        "        s += list[i]\n",
        "        i += 1\n",
        "    return s\n",
        "\n",
        "\n",
        "print(sum_nums(nums))"
      ],
      "metadata": {
        "colab": {
          "base_uri": "https://localhost:8080/"
        },
        "id": "xnXNB1jV7FlS",
        "outputId": "559bf3e0-7cc4-4fe0-8977-8c9356d7aa47"
      },
      "execution_count": 4,
      "outputs": [
        {
          "output_type": "stream",
          "name": "stdout",
          "text": [
            "Введите количество суммируемых элементов:4\n",
            "Введите число:5\n",
            "Введите число:2\n",
            "Введите число:2\n",
            "Введите число:2\n",
            "11\n"
          ]
        }
      ]
    }
  ]
}